{
 "cells": [
  {
   "cell_type": "code",
   "execution_count": 1,
   "metadata": {
    "collapsed": false
   },
   "outputs": [],
   "source": [
    "import psycopg2\n",
    "import csv\n",
    "import os\n",
    "import time\n",
    "from os import path\n",
    "import sys\n",
    "cherry = ['|','/','-','\\\\']\n"
   ]
  },
  {
   "cell_type": "code",
   "execution_count": 2,
   "metadata": {
    "collapsed": false
   },
   "outputs": [],
   "source": [
    "ruta ='/data/gdelt/raw'\n",
    "files = [ruta+'/'+f for f in os.listdir(ruta)]\n"
   ]
  },
  {
   "cell_type": "code",
   "execution_count": 12,
   "metadata": {
    "collapsed": false
   },
   "outputs": [],
   "source": [
    "def readblk(file_csv):\n",
    "    with open(file_csv,'rb') as f:\n",
    "        archivin = csv.reader(f,delimiter='\\t')\n",
    "        #Un Poco de limpieza a fuerza\n",
    "        for line in archivin:\n",
    "            for idx in [2,3,4,25,29,30,31,32,33,34,35,39,40,42,46,47,49,53,54,56]:\n",
    "                if line[idx]=='':\n",
    "                    line[idx] = 0\n",
    "            if len(line)==57:\n",
    "                line.append(\"NOURL\")\n",
    "            for idc in [5,6,7,8,9,10,16,36,43,44,45,48,50,51,52,55,57]:\n",
    "                line[idc]= line[idc].replace('\\'','')\n",
    "                #line[idc]= line[idc].replace(',',';')\n",
    "                line[idc]= line[idc].replace('\"','\\'')\n",
    "                \n",
    "            #data.append(line)\n",
    "            #Resuelve el dilema del tortillero. :P\n",
    "            yield(line)"
   ]
  },
  {
   "cell_type": "code",
   "execution_count": null,
   "metadata": {
    "collapsed": false,
    "scrolled": true
   },
   "outputs": [
    {
     "name": "stdout",
     "output_type": "stream",
     "text": [
      "Procesando /data/gdelt/raw/20140606.export.CSV \n",
      "\n",
      "Armando Qry...\n",
      "\n",
      "[1431265904.2] Numero de elementos:117239  \n",
      "\n",
      " \\ "
     ]
    }
   ],
   "source": [
    "try:\n",
    "    #Desde fuera a ver como funciona. jejeje\n",
    "    conn = psycopg2.connect(\"dbname='gdelt' user='sharop' host='localhost' password='Dodo0Bird'\")\n",
    "except:\n",
    "    print \"M@/#&!!!\"\n",
    "#Leemos toooodos los archivos.         \n",
    "for file_csv in files:\n",
    "    data =[]\n",
    "    print (\"Procesando {0} \\n\").format(file_csv)\n",
    "    data = readblk(file_csv)   \n",
    "    cur = conn.cursor()    \n",
    "    tupleArr =[]\n",
    "    print (\"Armando Qry...\\n\")\n",
    "    for ins in data:\n",
    "        tupleArr.append(str(tuple(ins)))\n",
    "        \n",
    "        #print (ctr)\n",
    "    ctr = 0\n",
    "    cont = True\n",
    "    #Necesario para cambiar el numero de elementos a insertar.\n",
    "    #El insertar menos o mas no es mejor. Depende de la memoria y pro\n",
    "    step = 1000 \n",
    "    li =0\n",
    "    ls = step\n",
    "    n = len(tupleArr)\n",
    "    start = time.time()\n",
    "    dots = 0\n",
    "    print (\"[{0}] Numero de elementos:{1}  \\n\").format(start,n)\n",
    "    while(cont):\n",
    "        \n",
    "        ##SOLO BELLEZA IMPRIME BARRITA QUE GIRA QUE SE VE CHIDA.\n",
    "        print ('\\b\\r {0}').format(cherry[dots%4]),\n",
    "        dots = dots + 1\n",
    "        ### FIN BELLEZA\n",
    "        \n",
    "        #INSERTOTE ADMINISTRADO GRACIAS A LA SOLUCION DEL DILEMA DEL TORTILLERO :P\n",
    "        insertos = ','.join(tupleArr[li:ls])\n",
    "        psql = 'INSERT INTO dirty.GDELT VALUES {0}'.format(insertos)\n",
    "        cur.execute(psql)\n",
    "        #print (\"Commit.\")\n",
    "        ctr +=1\n",
    "        conn.commit()\n",
    "        li = ls\n",
    "        ls = ls + step\n",
    "        if ctr >=n:\n",
    "            cont = False\n",
    "            break;\n",
    "        if ls > n:\n",
    "            ls =n\n",
    "            ctr = n\n",
    "    \n",
    "    cur.close()\n",
    "    end = time.time()    \n",
    "    print (\"[{0}Commit {1}, tiempo: {2}\\n\").format(end,file_csv,end-start)\n",
    "    #conn.commit()\n",
    "\n",
    "conn.close()"
   ]
  },
  {
   "cell_type": "code",
   "execution_count": null,
   "metadata": {
    "collapsed": false
   },
   "outputs": [],
   "source": [
    "li"
   ]
  },
  {
   "cell_type": "code",
   "execution_count": 80,
   "metadata": {
    "collapsed": true
   },
   "outputs": [
    {
     "data": {
      "text/plain": [
       "\"('265741250', '20030905', '200309', '2003', '2003.6712', '', '', '', '', '', '', '', '', '', '', 'AUS', 'MELBOURNE', 'AUS', '', '', '', '', '', '', '', '1', '043', '043', '04', '1', '2.8', '3', '3', '3', '1.43776603928407', '0', '', '', '', 0, 0, '', '4', 'Wellington, New Zealand (general), New Zealand', 'NZ', 'NZ00', '-41.3', '174.783', '-1521348', '4', 'Governor Islands, Western Australia, Australia', 'AS', 'AS08', '-13.9422', '126.701', '-1576170', '', 'http://www.odt.co.nz/news/national/271478/kiwi-kayaker-recounts-croc-horror')\""
      ]
     },
     "execution_count": 80,
     "metadata": {},
     "output_type": "execute_result"
    }
   ],
   "source": [
    "tupleArr[0]"
   ]
  },
  {
   "cell_type": "code",
   "execution_count": 10,
   "metadata": {
    "collapsed": false
   },
   "outputs": [
    {
     "data": {
      "text/plain": [
       "'/data/gdelt/raw/20130928.export.CSV'"
      ]
     },
     "execution_count": 10,
     "metadata": {},
     "output_type": "execute_result"
    }
   ],
   "source": [
    "files.pop(0)"
   ]
  },
  {
   "cell_type": "code",
   "execution_count": 4,
   "metadata": {
    "collapsed": false
   },
   "outputs": [],
   "source": [
    "for i in range(870):\n",
    "    if  '20130928.export.CSV' in files[0]:\n",
    "        break;\n",
    "    files.pop(0)"
   ]
  },
  {
   "cell_type": "code",
   "execution_count": 11,
   "metadata": {
    "collapsed": false
   },
   "outputs": [
    {
     "data": {
      "text/plain": [
       "['/data/gdelt/raw/20140606.export.CSV',\n",
       " '/data/gdelt/raw/20140617.export.CSV',\n",
       " '/data/gdelt/raw/20141104.export.CSV',\n",
       " '/data/gdelt/raw/1987.csv',\n",
       " '/data/gdelt/raw/20150410.export.CSV',\n",
       " '/data/gdelt/raw/20140424.export.CSV',\n",
       " '/data/gdelt/raw/200701.csv',\n",
       " '/data/gdelt/raw/20140730.export.CSV',\n",
       " '/data/gdelt/raw/20140607.export.CSV',\n",
       " '/data/gdelt/raw/1979.csv']"
      ]
     },
     "execution_count": 11,
     "metadata": {},
     "output_type": "execute_result"
    }
   ],
   "source": [
    "files[0:10]"
   ]
  },
  {
   "cell_type": "code",
   "execution_count": 5,
   "metadata": {
    "collapsed": false
   },
   "outputs": [
    {
     "data": {
      "text/plain": [
       "370"
      ]
     },
     "execution_count": 5,
     "metadata": {},
     "output_type": "execute_result"
    }
   ],
   "source": [
    "len(files)"
   ]
  },
  {
   "cell_type": "code",
   "execution_count": null,
   "metadata": {
    "collapsed": true
   },
   "outputs": [],
   "source": [
    "##2001.csv Fuera"
   ]
  }
 ],
 "metadata": {
  "kernelspec": {
   "display_name": "Python 2",
   "language": "python",
   "name": "python2"
  },
  "language_info": {
   "codemirror_mode": {
    "name": "ipython",
    "version": 2
   },
   "file_extension": ".py",
   "mimetype": "text/x-python",
   "name": "python",
   "nbconvert_exporter": "python",
   "pygments_lexer": "ipython2",
   "version": "2.7.9"
  }
 },
 "nbformat": 4,
 "nbformat_minor": 0
}
